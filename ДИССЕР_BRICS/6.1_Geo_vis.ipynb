{
 "cells": [
  {
   "cell_type": "code",
   "execution_count": 19,
   "id": "e955c876",
   "metadata": {},
   "outputs": [],
   "source": [
    "import json\n",
    "import geopandas as gpd\n",
    "import matplotlib.pyplot as plt\n",
    "import pandas as pd"
   ]
  },
  {
   "cell_type": "code",
   "execution_count": 10,
   "id": "eddda8c0",
   "metadata": {},
   "outputs": [],
   "source": [
    "with open(\"aggregated_statistics.json\", \"r\", encoding=\"utf-8\") as f:\n",
    "    data = json.load(f)"
   ]
  },
  {
   "cell_type": "code",
   "execution_count": 4,
   "id": "1ca06b9f",
   "metadata": {},
   "outputs": [],
   "source": [
    "shapefile_path = \"data/ne_110m_admin_0_countries/ne_110m_admin_0_countries.shp\"\n",
    "\n",
    "# Загрузка геоданных\n",
    "world = gpd.read_file(shapefile_path)"
   ]
  },
  {
   "cell_type": "code",
   "execution_count": 11,
   "id": "16a841c5",
   "metadata": {},
   "outputs": [],
   "source": [
    "# Маппинг кодов стран (ISO A2) на количество статей\n",
    "article_counts = {\n",
    "    country: stats[\"total_articles\"]\n",
    "    for country, stats in data.items()\n",
    "}"
   ]
  },
  {
   "cell_type": "code",
   "execution_count": 12,
   "id": "4742a235",
   "metadata": {},
   "outputs": [],
   "source": [
    "# Преобразуем коды стран (ISO A2 → ISO A3, которые в shapefile)\n",
    "code_map = {\n",
    "    \"au\": \"AUS\", \n",
    "    \"ca\": \"CAN\", \n",
    "    \"ch\": \"CHE\", \n",
    "    \"gb\": \"GBR\", \n",
    "    \"ie\": \"IRL\", \n",
    "    \"in\": \"IND\", \n",
    "    \"ph\": \"PHL\", \n",
    "    \"pk\": \"PAK\", \n",
    "    \"sg\": \"SGP\",\n",
    "    \"us\": \"USA\"\n",
    "}"
   ]
  },
  {
   "cell_type": "code",
   "execution_count": 13,
   "id": "6818fc34",
   "metadata": {},
   "outputs": [],
   "source": [
    "# Обратный маппинг: ISO A3 → article count\n",
    "country_article_map = {}\n",
    "for code2, count in article_counts.items():\n",
    "    code3 = code_map.get(code2)\n",
    "    if code3:\n",
    "        country_article_map[code3] = count"
   ]
  },
  {
   "cell_type": "code",
   "execution_count": 30,
   "id": "99eafaa2",
   "metadata": {},
   "outputs": [],
   "source": [
    "world[\"articles\"] = world[\"ADM0_A3\"].map(country_article_map)"
   ]
  },
  {
   "cell_type": "code",
   "execution_count": null,
   "id": "4e41f643",
   "metadata": {},
   "outputs": [
    {
     "name": "stdout",
     "output_type": "stream",
     "text": [
      "🗺️ Географическая карта сохранена: geographic_coverage_map.png\n"
     ]
    }
   ],
   "source": [
    "# Построение карты\n",
    "fig, ax = plt.subplots(1, 1, figsize=(15, 10))\n",
    "world.boundary.plot(ax=ax, linewidth=0.8, color=\"black\")\n",
    "world.plot(column=\"articles\", ax=ax, cmap=\"OrRd\", legend=True,\n",
    "           legend_kwds={'label': \"Number of Articles\", 'orientation': \"vertical\"},\n",
    "           missing_kwds={\"color\": \"lightgrey\", \"label\": \"No data\"})\n",
    "\n",
    "ax.set_title(\"Geographic Coverage of News Articles by Country\")\n",
    "ax.axis('off')\n",
    "plt.tight_layout()\n",
    "plt.savefig(\"geographic_coverage_map.png\")\n",
    "plt.close()\n",
    "\n",
    "print(\"Географическая карта сохранена: geographic_coverage_map.png\")\n"
   ]
  },
  {
   "cell_type": "code",
   "execution_count": 34,
   "id": "a91c7124",
   "metadata": {},
   "outputs": [
    {
     "name": "stdout",
     "output_type": "stream",
     "text": [
      "Карта сохранена: sentiment_map_by_country.png\n"
     ]
    }
   ],
   "source": [
    "# Присвоение средних значений тональности\n",
    "world[\"sentiment\"] = world[\"ADM0_A3\"].map(country_article_map)\n",
    "\n",
    "# Шаг 4: Построение карты\n",
    "fig, ax = plt.subplots(1, 1, figsize=(15, 10))\n",
    "world.boundary.plot(ax=ax, linewidth=0.5, color=\"black\")\n",
    "world.plot(\n",
    "    column=\"sentiment\", ax=ax, cmap=\"RdYlGn\", legend=True,\n",
    "    legend_kwds={\n",
    "        'label': \"Средняя тональность по странам\",\n",
    "        'orientation': \"vertical\"\n",
    "    },\n",
    "    missing_kwds={\n",
    "        \"color\": \"lightgrey\",\n",
    "        \"label\": \"Нет данных\"\n",
    "    }\n",
    ")\n",
    "\n",
    "ax.set_title(\"Geographical distribution of news sentiment\", fontsize=18)\n",
    "ax.axis('off')\n",
    "plt.tight_layout()\n",
    "plt.savefig(\"sentiment_map_by_country.png\")\n",
    "plt.close()\n",
    "\n",
    "print(\"Карта сохранена: sentiment_map_by_country.png\")"
   ]
  }
 ],
 "metadata": {
  "kernelspec": {
   "display_name": "Python 3",
   "language": "python",
   "name": "python3"
  },
  "language_info": {
   "codemirror_mode": {
    "name": "ipython",
    "version": 3
   },
   "file_extension": ".py",
   "mimetype": "text/x-python",
   "name": "python",
   "nbconvert_exporter": "python",
   "pygments_lexer": "ipython3",
   "version": "3.12.7"
  }
 },
 "nbformat": 4,
 "nbformat_minor": 5
}
