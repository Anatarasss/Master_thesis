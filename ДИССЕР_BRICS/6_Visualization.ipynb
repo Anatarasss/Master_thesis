{
 "cells": [
  {
   "cell_type": "code",
   "execution_count": 4,
   "id": "2090485e",
   "metadata": {},
   "outputs": [],
   "source": [
    "import json\n",
    "import matplotlib.pyplot as plt\n",
    "import seaborn as sns\n",
    "import pandas as pd"
   ]
  },
  {
   "cell_type": "code",
   "execution_count": 5,
   "id": "cb3937a2",
   "metadata": {},
   "outputs": [],
   "source": [
    "# Настройки\n",
    "sns.set(style=\"whitegrid\", font_scale=1.2)"
   ]
  },
  {
   "cell_type": "code",
   "execution_count": 6,
   "id": "d7ce6366",
   "metadata": {},
   "outputs": [],
   "source": [
    "# Загрузка агрегированных данных\n",
    "with open(\"aggregated_statistics.json\", \"r\", encoding=\"utf-8\") as f:\n",
    "    data = json.load(f)"
   ]
  },
  {
   "cell_type": "code",
   "execution_count": 7,
   "id": "73b64f3d",
   "metadata": {},
   "outputs": [],
   "source": [
    "# Преобразование в DataFrame\n",
    "rows = []\n",
    "for country, stats in data.items():\n",
    "    for theme, share in stats[\"theme_distribution\"].items():\n",
    "        rows.append({\n",
    "            \"Country\": country,\n",
    "            \"Total Articles\": stats[\"total_articles\"],\n",
    "            \"Avg Sentiment\": stats[\"average_sentiment\"],\n",
    "            \"Theme\": theme,\n",
    "            \"Theme Share\": share\n",
    "        })\n",
    "\n",
    "df = pd.DataFrame(rows)"
   ]
  },
  {
   "cell_type": "code",
   "execution_count": 12,
   "id": "df246135",
   "metadata": {},
   "outputs": [
    {
     "name": "stderr",
     "output_type": "stream",
     "text": [
      "C:\\Users\\Олег\\AppData\\Local\\Temp\\ipykernel_2876\\988158386.py:3: FutureWarning: \n",
      "\n",
      "Passing `palette` without assigning `hue` is deprecated and will be removed in v0.14.0. Assign the `y` variable to `hue` and set `legend=False` for the same effect.\n",
      "\n",
      "  sns.barplot(x=\"Total Articles\", y=\"Country\", data=df.drop_duplicates(\"Country\"), palette=\"Blues_d\")\n"
     ]
    }
   ],
   "source": [
    "# График 1: Кол-во статей по странам\n",
    "plt.figure(figsize=(10, 6))\n",
    "sns.barplot(x=\"Total Articles\", y=\"Country\", data=df.drop_duplicates(\"Country\"), palette=\"Blues_d\")\n",
    "plt.title(\"Number of Articles per Country\")\n",
    "plt.tight_layout()\n",
    "plt.savefig(\"articles_per_country.png\")\n",
    "plt.close()"
   ]
  },
  {
   "cell_type": "code",
   "execution_count": 13,
   "id": "825e96e1",
   "metadata": {},
   "outputs": [
    {
     "name": "stderr",
     "output_type": "stream",
     "text": [
      "C:\\Users\\Олег\\AppData\\Local\\Temp\\ipykernel_2876\\246651743.py:3: FutureWarning: \n",
      "\n",
      "Passing `palette` without assigning `hue` is deprecated and will be removed in v0.14.0. Assign the `y` variable to `hue` and set `legend=False` for the same effect.\n",
      "\n",
      "  sns.barplot(x=\"Avg Sentiment\", y=\"Country\", data=df.drop_duplicates(\"Country\"), palette=\"coolwarm\")\n"
     ]
    }
   ],
   "source": [
    "# График 2: Средняя тональность\n",
    "plt.figure(figsize=(10, 6))\n",
    "sns.barplot(x=\"Avg Sentiment\", y=\"Country\", data=df.drop_duplicates(\"Country\"), palette=\"coolwarm\")\n",
    "plt.title(\"Average Sentiment per Country\")\n",
    "plt.axvline(0, color='gray', linestyle='--')\n",
    "plt.tight_layout()\n",
    "plt.savefig(\"sentiment_per_country.png\")\n",
    "plt.close()"
   ]
  },
  {
   "cell_type": "code",
   "execution_count": 14,
   "id": "30e76a88",
   "metadata": {},
   "outputs": [],
   "source": [
    "# График 3: Распределение тем (Stacked Bar Chart)\n",
    "theme_pivot = df.pivot_table(index=\"Country\", columns=\"Theme\", values=\"Theme Share\", aggfunc=\"first\").fillna(0)\n",
    "theme_pivot.plot(kind='barh', stacked=True, figsize=(12, 8), colormap='tab20')\n",
    "plt.title(\"Theme Distribution per Country\")\n",
    "plt.xlabel(\"Proportion of Themes\")\n",
    "plt.legend(title=\"Themes\", bbox_to_anchor=(1.05, 1), loc='upper left')\n",
    "plt.tight_layout()\n",
    "plt.savefig(\"themes_stacked_bar.png\")\n",
    "plt.close()"
   ]
  },
  {
   "cell_type": "code",
   "execution_count": null,
   "id": "1a480b38",
   "metadata": {},
   "outputs": [],
   "source": []
  }
 ],
 "metadata": {
  "kernelspec": {
   "display_name": "Python 3",
   "language": "python",
   "name": "python3"
  },
  "language_info": {
   "codemirror_mode": {
    "name": "ipython",
    "version": 3
   },
   "file_extension": ".py",
   "mimetype": "text/x-python",
   "name": "python",
   "nbconvert_exporter": "python",
   "pygments_lexer": "ipython3",
   "version": "3.12.7"
  }
 },
 "nbformat": 4,
 "nbformat_minor": 5
}
