{
 "cells": [
  {
   "cell_type": "code",
   "execution_count": 1,
   "id": "2cb67d22",
   "metadata": {},
   "outputs": [],
   "source": [
    "import json\n",
    "import os\n",
    "from collections import defaultdict\n",
    "import statistics"
   ]
  },
  {
   "cell_type": "code",
   "execution_count": 2,
   "id": "47fb3318",
   "metadata": {},
   "outputs": [],
   "source": [
    "# Папка с результатами классификации\n",
    "INPUT_FILE = \"classified_articles.json\"\n",
    "OUTPUT_FILE = \"aggregated_statistics.json\""
   ]
  },
  {
   "cell_type": "code",
   "execution_count": 3,
   "id": "928da3c9",
   "metadata": {},
   "outputs": [],
   "source": [
    "# Загрузка статей\n",
    "with open(INPUT_FILE, \"r\", encoding=\"utf-8\") as f:\n",
    "    articles = json.load(f)"
   ]
  },
  {
   "cell_type": "code",
   "execution_count": 4,
   "id": "4f13a771",
   "metadata": {},
   "outputs": [],
   "source": [
    "# Структуры агрегации\n",
    "country_stats = defaultdict(lambda: {\n",
    "    \"total_articles\": 0,\n",
    "    \"theme_counts\": defaultdict(int),\n",
    "    \"sentiments\": [],\n",
    "})"
   ]
  },
  {
   "cell_type": "code",
   "execution_count": 5,
   "id": "91d97d2b",
   "metadata": {},
   "outputs": [],
   "source": [
    "# Маппинг тональности в числовую шкалу\n",
    "sentiment_scores = {\n",
    "    \"positive\": 1,\n",
    "    \"neutral\": 0,\n",
    "    \"negative\": -1\n",
    "}"
   ]
  },
  {
   "cell_type": "code",
   "execution_count": 6,
   "id": "7b2338b9",
   "metadata": {},
   "outputs": [],
   "source": [
    "# Обработка статей\n",
    "for article in articles:\n",
    "    country = article.get(\"country\", \"unknown\")\n",
    "    sentiment = article.get(\"sentiment\", \"neutral\")\n",
    "    themes = article.get(\"themes\", [])\n",
    "\n",
    "    # Обновление статистики\n",
    "    country_stats[country][\"total_articles\"] += 1\n",
    "    country_stats[country][\"sentiments\"].append(sentiment_scores.get(sentiment, 0))\n",
    "    for theme in themes:\n",
    "        country_stats[country][\"theme_counts\"][theme] += 1"
   ]
  },
  {
   "cell_type": "code",
   "execution_count": 7,
   "id": "9357a196",
   "metadata": {},
   "outputs": [],
   "source": [
    "# Финальный подсчёт по каждой стране\n",
    "aggregated = {}\n",
    "for country, stats in country_stats.items():\n",
    "    total = stats[\"total_articles\"]\n",
    "    sentiment_avg = round(statistics.mean(stats[\"sentiments\"]), 3) if stats[\"sentiments\"] else 0.0\n",
    "\n",
    "    # Преобразование счётчиков тем в доли\n",
    "    theme_distribution = {\n",
    "        theme: round(count / total, 3)\n",
    "        for theme, count in stats[\"theme_counts\"].items()\n",
    "    }\n",
    "\n",
    "    aggregated[country] = {\n",
    "        \"total_articles\": total,\n",
    "        \"average_sentiment\": sentiment_avg,\n",
    "        \"theme_distribution\": theme_distribution\n",
    "    }"
   ]
  },
  {
   "cell_type": "code",
   "execution_count": 8,
   "id": "a6fce29f",
   "metadata": {},
   "outputs": [
    {
     "name": "stdout",
     "output_type": "stream",
     "text": [
      "Агрегация завершена. Результаты сохранены в aggregated_statistics.json\n"
     ]
    }
   ],
   "source": [
    "# Сохранение результата\n",
    "with open(OUTPUT_FILE, \"w\", encoding=\"utf-8\") as f:\n",
    "    json.dump(aggregated, f, indent=4, ensure_ascii=False)\n",
    "\n",
    "print(\"Агрегация завершена. Результаты сохранены в\", OUTPUT_FILE)"
   ]
  }
 ],
 "metadata": {
  "kernelspec": {
   "display_name": "Python 3",
   "language": "python",
   "name": "python3"
  },
  "language_info": {
   "codemirror_mode": {
    "name": "ipython",
    "version": 3
   },
   "file_extension": ".py",
   "mimetype": "text/x-python",
   "name": "python",
   "nbconvert_exporter": "python",
   "pygments_lexer": "ipython3",
   "version": "3.12.7"
  }
 },
 "nbformat": 4,
 "nbformat_minor": 5
}
