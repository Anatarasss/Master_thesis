{
 "cells": [
  {
   "cell_type": "code",
   "execution_count": 1,
   "id": "a0d0b432",
   "metadata": {},
   "outputs": [],
   "source": [
    "import json\n",
    "import urllib.request\n",
    "import time\n",
    "import ssl\n",
    "import certifi\n",
    "ssl._create_default_https_context = lambda: ssl.create_default_context(cafile=certifi.where())"
   ]
  },
  {
   "cell_type": "code",
   "execution_count": 2,
   "id": "647740d0",
   "metadata": {},
   "outputs": [],
   "source": [
    "API_KEY = \"f3d8fc626b0d158b4a126e449e3dc1c6\"\n",
    "QUERY = \"Russia\"\n",
    "LANG = \"en\"\n",
    "MAX_ARTICLES = 100\n",
    "BASE_URL = \"https://gnews.io/api/v4/search\"\n",
    "\n",
    "COUNTRY_CODES = {\n",
    "    \"Australia\": \"au\", \"Brazil\": \"br\", \"Canada\": \"ca\", \"China\": \"cn\",\n",
    "    \"Egypt\": \"eg\", \"France\": \"fr\", \"Germany\": \"de\", \"Greece\": \"gr\",\n",
    "    \"Hong Kong\": \"hk\", \"India\": \"in\", \"Ireland\": \"ie\", \"Israel\": \"il\",\n",
    "    \"Italy\": \"it\", \"Japan\": \"jp\", \"Netherlands\": \"nl\", \"Norway\": \"no\",\n",
    "    \"Pakistan\": \"pk\", \"Peru\": \"pe\", \"Philippines\": \"ph\", \"Portugal\": \"pt\",\n",
    "    \"Romania\": \"ro\", \"Russian Federation\": \"ru\", \"Singapore\": \"sg\", \"Spain\": \"es\",\n",
    "    \"Sweden\": \"se\", \"Switzerland\": \"ch\", \"Taiwan\": \"tw\", \"Ukraine\": \"ua\",\n",
    "    \"United Kingdom\": \"gb\", \"United States\": \"us\"\n",
    "}"
   ]
  },
  {
   "cell_type": "code",
   "execution_count": 3,
   "id": "4a4673b1",
   "metadata": {},
   "outputs": [
    {
     "name": "stdout",
     "output_type": "stream",
     "text": [
      "Australia: 50 articles fetched.\n",
      "Brazil: No articles found, nothing saved.\n",
      "Canada: 50 articles fetched.\n",
      "China: No articles found, nothing saved.\n",
      "Egypt: No articles found, nothing saved.\n",
      "France: No articles found, nothing saved.\n",
      "Germany: No articles found, nothing saved.\n",
      "Greece: No articles found, nothing saved.\n",
      "Hong Kong: No articles found, nothing saved.\n",
      "India: 50 articles fetched.\n",
      "Ireland: 50 articles fetched.\n",
      "Israel: No articles found, nothing saved.\n",
      "Italy: No articles found, nothing saved.\n",
      "Japan: No articles found, nothing saved.\n",
      "Netherlands: No articles found, nothing saved.\n",
      "Norway: No articles found, nothing saved.\n",
      "Pakistan: 50 articles fetched.\n",
      "Peru: No articles found, nothing saved.\n",
      "Philippines: 50 articles fetched.\n",
      "Portugal: No articles found, nothing saved.\n",
      "Romania: No articles found, nothing saved.\n",
      "Russian Federation: No articles found, nothing saved.\n",
      "Singapore: 50 articles fetched.\n",
      "Spain: No articles found, nothing saved.\n",
      "Sweden: No articles found, nothing saved.\n",
      "Switzerland: 50 articles fetched.\n",
      "Taiwan: No articles found, nothing saved.\n",
      "Ukraine: No articles found, nothing saved.\n",
      "United Kingdom: 50 articles fetched.\n",
      "United States: 50 articles fetched.\n"
     ]
    }
   ],
   "source": [
    "for country_name, country_code in COUNTRY_CODES.items():\n",
    "    url = f\"{BASE_URL}?q={QUERY}&lang={LANG}&country={country_code}&max={MAX_ARTICLES}&apikey={API_KEY}\"\n",
    "\n",
    "    try:\n",
    "        with urllib.request.urlopen(url) as response:\n",
    "            data = json.loads(response.read().decode(\"utf-8\"))\n",
    "            articles = data.get(\"articles\", [])\n",
    "            \n",
    "            if articles:\n",
    "                print(f\"{country_name}: {len(articles)} articles fetched.\")\n",
    "                filename = f\"{country_code}_articles.json\"\n",
    "                with open(filename, \"w\", encoding=\"utf-8\") as f:\n",
    "                    json.dump(articles, f, indent=4, ensure_ascii=False)\n",
    "            else:\n",
    "                print(f\"{country_name}: No articles found, nothing saved.\")\n",
    "\n",
    "        time.sleep(1.2)\n",
    "\n",
    "    except Exception as e:\n",
    "        print(f\"Error fetching data for {country_name} ({country_code}): {e}\")"
   ]
  }
 ],
 "metadata": {
  "kernelspec": {
   "display_name": "Python 3",
   "language": "python",
   "name": "python3"
  },
  "language_info": {
   "codemirror_mode": {
    "name": "ipython",
    "version": 3
   },
   "file_extension": ".py",
   "mimetype": "text/x-python",
   "name": "python",
   "nbconvert_exporter": "python",
   "pygments_lexer": "ipython3",
   "version": "3.12.10"
  }
 },
 "nbformat": 4,
 "nbformat_minor": 5
}
