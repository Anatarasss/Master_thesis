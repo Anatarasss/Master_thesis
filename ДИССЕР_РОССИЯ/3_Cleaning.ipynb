{
 "cells": [
  {
   "cell_type": "code",
   "execution_count": 1,
   "id": "b3eb589d",
   "metadata": {},
   "outputs": [
    {
     "name": "stderr",
     "output_type": "stream",
     "text": [
      "[nltk_data] Downloading package punkt to\n",
      "[nltk_data]     C:\\Users\\Олег\\AppData\\Roaming\\nltk_data...\n",
      "[nltk_data]   Package punkt is already up-to-date!\n",
      "[nltk_data] Downloading package stopwords to\n",
      "[nltk_data]     C:\\Users\\Олег\\AppData\\Roaming\\nltk_data...\n",
      "[nltk_data]   Package stopwords is already up-to-date!\n"
     ]
    },
    {
     "data": {
      "text/plain": [
       "True"
      ]
     },
     "execution_count": 1,
     "metadata": {},
     "output_type": "execute_result"
    }
   ],
   "source": [
    "import os\n",
    "import json\n",
    "import requests\n",
    "from bs4 import BeautifulSoup\n",
    "import nltk\n",
    "from nltk.tokenize import sent_tokenize, word_tokenize\n",
    "from nltk.corpus import stopwords\n",
    "from collections import Counter\n",
    "import re\n",
    "\n",
    "nltk.download(\"punkt\")\n",
    "nltk.download(\"stopwords\")"
   ]
  },
  {
   "cell_type": "code",
   "execution_count": 2,
   "id": "de534b66",
   "metadata": {},
   "outputs": [],
   "source": [
    "INPUT_DIR = \".\"  # каталог с json-файлами\n",
    "OUTPUT_DIR = \"parsed_articles\"\n",
    "os.makedirs(OUTPUT_DIR, exist_ok=True)"
   ]
  },
  {
   "cell_type": "code",
   "execution_count": 3,
   "id": "6efd9047",
   "metadata": {},
   "outputs": [],
   "source": [
    "stop_words = set(stopwords.words(\"english\"))\n",
    "def clean_text(text): # очистка текста от лишних символов и ссылок\n",
    "    text = re.sub(r\"\\s+\", \" \", text)\n",
    "    text = re.sub(r\"https?://\\S+\", \"\", text)\n",
    "    return text.strip()"
   ]
  },
  {
   "cell_type": "code",
   "execution_count": 4,
   "id": "98defa62",
   "metadata": {},
   "outputs": [],
   "source": [
    "def extract_main_text_from_url(url): # извлечение главного текста из статей\n",
    "    try:\n",
    "        headers = {\"User-Agent\": \"Mozilla/5.0\"}\n",
    "        response = requests.get(url, headers=headers, timeout=10)\n",
    "        soup = BeautifulSoup(response.content, \"html.parser\")\n",
    "\n",
    "        # Убираем скрипты и стили\n",
    "        for tag in soup([\"script\", \"style\", \"noscript\", \"header\", \"footer\", \"nav\", \"form\"]):\n",
    "            tag.decompose()\n",
    "\n",
    "        # Пробуем найти основной текст\n",
    "        paragraphs = soup.find_all(\"p\")\n",
    "        text = \" \".join(p.get_text() for p in paragraphs)\n",
    "        return clean_text(text)\n",
    "    \n",
    "\n",
    "    except Exception as e:\n",
    "        print(f\"Ошибка при извлечении текста: {e}\")\n",
    "        return \"\""
   ]
  },
  {
   "cell_type": "code",
   "execution_count": 5,
   "id": "21d80764",
   "metadata": {},
   "outputs": [],
   "source": [
    "def extract_topics(text, top_n=10): # извлечение главных тем\n",
    "    words = word_tokenize(text.lower())\n",
    "    words = [w for w in words if w.isalnum() and w not in stop_words]\n",
    "    bigrams = zip(words, words[1:])\n",
    "    phrases = [\" \".join(b) for b in bigrams]\n",
    "    counter = Counter(phrases)\n",
    "    return [phrase for phrase, _ in counter.most_common(top_n)]"
   ]
  },
  {
   "cell_type": "code",
   "execution_count": 6,
   "id": "4c126eed",
   "metadata": {},
   "outputs": [
    {
     "name": "stdout",
     "output_type": "stream",
     "text": [
      "Сохранено: parsed_articles\\au_parsed.json\n",
      "Сохранено: parsed_articles\\ca_parsed.json\n",
      "Ошибка при извлечении текста: HTTPSConnectionPool(host='www.swissinfo.ch', port=443): Read timed out. (read timeout=10)\n",
      "Ошибка при извлечении текста: HTTPSConnectionPool(host='www.swissinfo.ch', port=443): Read timed out. (read timeout=10)\n",
      "Ошибка при извлечении текста: HTTPSConnectionPool(host='www.swissinfo.ch', port=443): Read timed out. (read timeout=10)\n",
      "Ошибка при извлечении текста: HTTPSConnectionPool(host='www.swissinfo.ch', port=443): Read timed out. (read timeout=10)\n",
      "Ошибка при извлечении текста: HTTPSConnectionPool(host='www.swissinfo.ch', port=443): Read timed out. (read timeout=10)\n",
      "Ошибка при извлечении текста: HTTPSConnectionPool(host='www.swissinfo.ch', port=443): Read timed out. (read timeout=10)\n",
      "Ошибка при извлечении текста: HTTPSConnectionPool(host='www.swissinfo.ch', port=443): Read timed out. (read timeout=10)\n",
      "Ошибка при извлечении текста: HTTPSConnectionPool(host='www.swissinfo.ch', port=443): Read timed out. (read timeout=10)\n",
      "Ошибка при извлечении текста: HTTPSConnectionPool(host='www.swissinfo.ch', port=443): Read timed out. (read timeout=10)\n",
      "Ошибка при извлечении текста: HTTPSConnectionPool(host='www.swissinfo.ch', port=443): Read timed out. (read timeout=10)\n",
      "Ошибка при извлечении текста: HTTPSConnectionPool(host='www.swissinfo.ch', port=443): Read timed out. (read timeout=10)\n",
      "Ошибка при извлечении текста: HTTPSConnectionPool(host='www.swissinfo.ch', port=443): Read timed out. (read timeout=10)\n",
      "Ошибка при извлечении текста: HTTPSConnectionPool(host='www.swissinfo.ch', port=443): Read timed out. (read timeout=10)\n",
      "Ошибка при извлечении текста: HTTPSConnectionPool(host='www.swissinfo.ch', port=443): Read timed out. (read timeout=10)\n",
      "Ошибка при извлечении текста: HTTPSConnectionPool(host='www.swissinfo.ch', port=443): Read timed out. (read timeout=10)\n",
      "Ошибка при извлечении текста: HTTPSConnectionPool(host='www.swissinfo.ch', port=443): Read timed out. (read timeout=10)\n",
      "Ошибка при извлечении текста: HTTPSConnectionPool(host='www.swissinfo.ch', port=443): Read timed out. (read timeout=10)\n",
      "Ошибка при извлечении текста: HTTPSConnectionPool(host='www.swissinfo.ch', port=443): Read timed out. (read timeout=10)\n",
      "Ошибка при извлечении текста: HTTPSConnectionPool(host='www.swissinfo.ch', port=443): Read timed out. (read timeout=10)\n",
      "Ошибка при извлечении текста: HTTPSConnectionPool(host='www.swissinfo.ch', port=443): Read timed out. (read timeout=10)\n",
      "Ошибка при извлечении текста: HTTPSConnectionPool(host='www.swissinfo.ch', port=443): Read timed out. (read timeout=10)\n",
      "Ошибка при извлечении текста: HTTPSConnectionPool(host='www.swissinfo.ch', port=443): Read timed out. (read timeout=10)\n",
      "Ошибка при извлечении текста: HTTPSConnectionPool(host='www.swissinfo.ch', port=443): Read timed out. (read timeout=10)\n",
      "Ошибка при извлечении текста: HTTPSConnectionPool(host='www.swissinfo.ch', port=443): Read timed out. (read timeout=10)\n",
      "Ошибка при извлечении текста: HTTPSConnectionPool(host='www.swissinfo.ch', port=443): Read timed out. (read timeout=10)\n",
      "Ошибка при извлечении текста: HTTPSConnectionPool(host='www.swissinfo.ch', port=443): Read timed out. (read timeout=10)\n",
      "Ошибка при извлечении текста: HTTPSConnectionPool(host='www.swissinfo.ch', port=443): Read timed out. (read timeout=10)\n",
      "Ошибка при извлечении текста: HTTPSConnectionPool(host='www.swissinfo.ch', port=443): Read timed out. (read timeout=10)\n",
      "Ошибка при извлечении текста: HTTPSConnectionPool(host='www.swissinfo.ch', port=443): Read timed out. (read timeout=10)\n",
      "Ошибка при извлечении текста: HTTPSConnectionPool(host='www.swissinfo.ch', port=443): Read timed out. (read timeout=10)\n",
      "Ошибка при извлечении текста: HTTPSConnectionPool(host='www.swissinfo.ch', port=443): Read timed out. (read timeout=10)\n",
      "Ошибка при извлечении текста: HTTPSConnectionPool(host='www.swissinfo.ch', port=443): Read timed out. (read timeout=10)\n",
      "Ошибка при извлечении текста: HTTPSConnectionPool(host='www.swissinfo.ch', port=443): Read timed out. (read timeout=10)\n",
      "Ошибка при извлечении текста: HTTPSConnectionPool(host='www.swissinfo.ch', port=443): Read timed out. (read timeout=10)\n",
      "Ошибка при извлечении текста: HTTPSConnectionPool(host='www.swissinfo.ch', port=443): Read timed out. (read timeout=10)\n",
      "Ошибка при извлечении текста: HTTPSConnectionPool(host='www.swissinfo.ch', port=443): Read timed out. (read timeout=10)\n",
      "Ошибка при извлечении текста: HTTPSConnectionPool(host='www.swissinfo.ch', port=443): Read timed out. (read timeout=10)\n",
      "Ошибка при извлечении текста: HTTPSConnectionPool(host='www.swissinfo.ch', port=443): Read timed out. (read timeout=10)\n",
      "Ошибка при извлечении текста: HTTPSConnectionPool(host='www.swissinfo.ch', port=443): Read timed out. (read timeout=10)\n",
      "Ошибка при извлечении текста: HTTPSConnectionPool(host='www.swissinfo.ch', port=443): Read timed out. (read timeout=10)\n",
      "Ошибка при извлечении текста: HTTPSConnectionPool(host='www.swissinfo.ch', port=443): Read timed out. (read timeout=10)\n",
      "Ошибка при извлечении текста: HTTPSConnectionPool(host='www.swissinfo.ch', port=443): Read timed out. (read timeout=10)\n",
      "Ошибка при извлечении текста: HTTPSConnectionPool(host='www.swissinfo.ch', port=443): Read timed out. (read timeout=10)\n",
      "Ошибка при извлечении текста: HTTPSConnectionPool(host='www.swissinfo.ch', port=443): Read timed out. (read timeout=10)\n",
      "Ошибка при извлечении текста: HTTPSConnectionPool(host='www.swissinfo.ch', port=443): Read timed out. (read timeout=10)\n",
      "Ошибка при извлечении текста: HTTPSConnectionPool(host='www.swissinfo.ch', port=443): Read timed out. (read timeout=10)\n",
      "Ошибка при извлечении текста: HTTPSConnectionPool(host='www.swissinfo.ch', port=443): Read timed out. (read timeout=10)\n",
      "Ошибка при извлечении текста: HTTPSConnectionPool(host='www.swissinfo.ch', port=443): Read timed out. (read timeout=10)\n",
      "Ошибка при извлечении текста: HTTPSConnectionPool(host='www.swissinfo.ch', port=443): Read timed out. (read timeout=10)\n",
      "Ошибка при извлечении текста: HTTPSConnectionPool(host='www.swissinfo.ch', port=443): Read timed out. (read timeout=10)\n",
      "Сохранено: parsed_articles\\ch_parsed.json\n",
      "Сохранено: parsed_articles\\gb_parsed.json\n",
      "Ошибка при извлечении текста: HTTPSConnectionPool(host='www.irishtimes.com', port=443): Read timed out. (read timeout=10)\n",
      "Ошибка при извлечении текста: HTTPSConnectionPool(host='www.rte.ie', port=443): Read timed out. (read timeout=10)\n",
      "Ошибка при извлечении текста: HTTPSConnectionPool(host='www.rte.ie', port=443): Read timed out. (read timeout=10)\n",
      "Ошибка при извлечении текста: HTTPSConnectionPool(host='www.irishtimes.com', port=443): Read timed out. (read timeout=10)\n",
      "Ошибка при извлечении текста: HTTPSConnectionPool(host='www.irishtimes.com', port=443): Read timed out. (read timeout=10)\n",
      "Ошибка при извлечении текста: HTTPSConnectionPool(host='www.irishtimes.com', port=443): Read timed out. (read timeout=10)\n",
      "Ошибка при извлечении текста: HTTPSConnectionPool(host='www.irishtimes.com', port=443): Read timed out. (read timeout=10)\n",
      "Ошибка при извлечении текста: HTTPSConnectionPool(host='www.rte.ie', port=443): Read timed out. (read timeout=10)\n",
      "Ошибка при извлечении текста: HTTPSConnectionPool(host='www.irishtimes.com', port=443): Read timed out. (read timeout=10)\n",
      "Ошибка при извлечении текста: HTTPSConnectionPool(host='www.rte.ie', port=443): Read timed out. (read timeout=10)\n",
      "Ошибка при извлечении текста: HTTPSConnectionPool(host='www.irishtimes.com', port=443): Read timed out. (read timeout=10)\n",
      "Ошибка при извлечении текста: HTTPSConnectionPool(host='www.irishtimes.com', port=443): Read timed out. (read timeout=10)\n",
      "Ошибка при извлечении текста: HTTPSConnectionPool(host='www.rte.ie', port=443): Read timed out. (read timeout=10)\n",
      "Ошибка при извлечении текста: HTTPSConnectionPool(host='www.irishtimes.com', port=443): Read timed out. (read timeout=10)\n",
      "Ошибка при извлечении текста: HTTPSConnectionPool(host='www.rte.ie', port=443): Read timed out. (read timeout=10)\n",
      "Ошибка при извлечении текста: HTTPSConnectionPool(host='www.irishtimes.com', port=443): Read timed out. (read timeout=10)\n",
      "Ошибка при извлечении текста: HTTPSConnectionPool(host='www.irishtimes.com', port=443): Read timed out. (read timeout=10)\n",
      "Ошибка при извлечении текста: HTTPSConnectionPool(host='www.irishtimes.com', port=443): Read timed out. (read timeout=10)\n",
      "Ошибка при извлечении текста: HTTPSConnectionPool(host='www.irishtimes.com', port=443): Read timed out. (read timeout=10)\n",
      "Ошибка при извлечении текста: HTTPSConnectionPool(host='www.irishtimes.com', port=443): Read timed out. (read timeout=10)\n",
      "Ошибка при извлечении текста: HTTPSConnectionPool(host='www.irishtimes.com', port=443): Read timed out. (read timeout=10)\n",
      "Ошибка при извлечении текста: HTTPSConnectionPool(host='www.irishtimes.com', port=443): Read timed out. (read timeout=10)\n",
      "Ошибка при извлечении текста: HTTPSConnectionPool(host='www.irishtimes.com', port=443): Read timed out. (read timeout=10)\n",
      "Сохранено: parsed_articles\\ie_parsed.json\n",
      "Сохранено: parsed_articles\\in_parsed.json\n",
      "Сохранено: parsed_articles\\ph_parsed.json\n",
      "Сохранено: parsed_articles\\pk_parsed.json\n",
      "Сохранено: parsed_articles\\sg_parsed.json\n",
      "Ошибка при извлечении текста: HTTPSConnectionPool(host='www.newsweek.com', port=443): Read timed out. (read timeout=10)\n",
      "Ошибка при извлечении текста: HTTPSConnectionPool(host='www.newsweek.com', port=443): Read timed out. (read timeout=10)\n",
      "Ошибка при извлечении текста: HTTPSConnectionPool(host='www.newsweek.com', port=443): Read timed out. (read timeout=10)\n",
      "Ошибка при извлечении текста: HTTPSConnectionPool(host='www.newsweek.com', port=443): Read timed out. (read timeout=10)\n",
      "Ошибка при извлечении текста: HTTPSConnectionPool(host='www.newsweek.com', port=443): Read timed out. (read timeout=10)\n",
      "Ошибка при извлечении текста: HTTPSConnectionPool(host='www.boston.com', port=443): Read timed out. (read timeout=10)\n",
      "Ошибка при извлечении текста: HTTPSConnectionPool(host='www.newsweek.com', port=443): Read timed out. (read timeout=10)\n",
      "Сохранено: parsed_articles\\us_parsed.json\n"
     ]
    }
   ],
   "source": [
    "for filename in os.listdir(INPUT_DIR):\n",
    "    if filename.endswith(\"_articles.json\"):\n",
    "        with open(os.path.join(INPUT_DIR, filename), encoding=\"utf-8\") as f:\n",
    "            articles = json.load(f)\n",
    "\n",
    "        parsed = []\n",
    "        for article in articles:\n",
    "            url = article.get(\"url\")\n",
    "            if not url:\n",
    "                continue\n",
    "\n",
    "            full_text = extract_main_text_from_url(url)\n",
    "            if not full_text or len(full_text) < 300:\n",
    "                continue\n",
    "\n",
    "            sentences = sent_tokenize(full_text)\n",
    "            topics = extract_topics(full_text)\n",
    "\n",
    "            parsed.append({\n",
    "                \"title\": article.get(\"title\"),\n",
    "                \"source\": article.get(\"source\", {}).get(\"name\"),\n",
    "                \"url\": url,\n",
    "                \"publishedAt\": article.get(\"publishedAt\"),\n",
    "                \"sentences\": sentences,\n",
    "                \"topics\": topics,\n",
    "            })\n",
    "\n",
    "        output_path = os.path.join(OUTPUT_DIR, filename.replace(\"_articles.json\", \"_parsed.json\"))\n",
    "        with open(output_path, \"w\", encoding=\"utf-8\") as f_out:\n",
    "            json.dump(parsed, f_out, indent=2, ensure_ascii=False)\n",
    "\n",
    "        print(f\"Сохранено: {output_path}\")\n"
   ]
  }
 ],
 "metadata": {
  "kernelspec": {
   "display_name": "Python 3",
   "language": "python",
   "name": "python3"
  },
  "language_info": {
   "codemirror_mode": {
    "name": "ipython",
    "version": 3
   },
   "file_extension": ".py",
   "mimetype": "text/x-python",
   "name": "python",
   "nbconvert_exporter": "python",
   "pygments_lexer": "ipython3",
   "version": "3.12.7"
  }
 },
 "nbformat": 4,
 "nbformat_minor": 5
}
