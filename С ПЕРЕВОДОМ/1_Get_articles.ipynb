{
 "cells": [
  {
   "cell_type": "code",
   "execution_count": null,
   "id": "a0d0b432",
   "metadata": {},
   "outputs": [],
   "source": [
    "import json\n",
    "import urllib.request\n",
    "import time\n",
    "import ssl\n",
    "import certifi\n",
    "ssl._create_default_https_context = (\n",
    "    lambda: ssl.create_default_context(cafile=certifi.where())\n",
    "    )"
   ]
  },
  {
   "cell_type": "code",
   "execution_count": null,
   "id": "647740d0",
   "metadata": {},
   "outputs": [],
   "source": [
    "API_KEY = \"f3d8fc626b0d158b4a126e449e3dc1c6\"\n",
    "QUERY = \"Russia\"\n",
    "MAX_ARTICLES = 100\n",
    "BASE_URL = \"https://gnews.io/api/v4/search\"\n",
    "\n",
    "COUNTRY_CODES = {\n",
    "    \"Australia\": \"au\", \"Brazil\": \"br\", \"Canada\": \"ca\", \n",
    "    \"China\": \"cn\", \"Egypt\": \"eg\", \"France\": \"fr\", \"Germany\": \"de\", \n",
    "    \"Greece\": \"gr\", \"Hong Kong\": \"hk\", \"India\": \"in\", \"Ireland\": \"ie\", \n",
    "    \"Israel\": \"il\", \"Italy\": \"it\", \"Japan\": \"jp\", \"Netherlands\": \"nl\", \n",
    "    \"Norway\": \"no\", \"Pakistan\": \"pk\", \"Peru\": \"pe\", \"Philippines\": \"ph\", \n",
    "    \"Portugal\": \"pt\", \"Romania\": \"ro\", \"Russian Federation\": \"ru\", \n",
    "    \"Singapore\": \"sg\", \"Spain\": \"es\", \"Sweden\": \"se\", \"Switzerland\": \"ch\", \n",
    "    \"Taiwan\": \"tw\", \"Ukraine\": \"ua\", \"United Kingdom\": \"gb\", \n",
    "    \"United States\": \"us\"\n",
    "}"
   ]
  },
  {
   "cell_type": "code",
   "execution_count": 6,
   "id": "4a4673b1",
   "metadata": {},
   "outputs": [
    {
     "name": "stdout",
     "output_type": "stream",
     "text": [
      "Australia: 50 articles fetched.\n",
      "Brazil: 50 articles fetched.\n",
      "Canada: 50 articles fetched.\n",
      "China: 4 articles fetched.\n",
      "Egypt: 11 articles fetched.\n",
      "France: 50 articles fetched.\n",
      "Germany: 50 articles fetched.\n",
      "Greece: 50 articles fetched.\n",
      "Hong Kong: 4 articles fetched.\n",
      "India: 50 articles fetched.\n",
      "Ireland: 50 articles fetched.\n",
      "Israel: No articles found, nothing saved.\n",
      "Italy: 50 articles fetched.\n",
      "Japan: 14 articles fetched.\n",
      "Netherlands: 2 articles fetched.\n",
      "Norway: 28 articles fetched.\n",
      "Pakistan: 50 articles fetched.\n",
      "Peru: 18 articles fetched.\n",
      "Philippines: 50 articles fetched.\n",
      "Portugal: 50 articles fetched.\n",
      "Romania: 50 articles fetched.\n",
      "Russian Federation: 50 articles fetched.\n",
      "Singapore: 50 articles fetched.\n",
      "Spain: 14 articles fetched.\n",
      "Sweden: 15 articles fetched.\n",
      "Switzerland: 50 articles fetched.\n",
      "Taiwan: 28 articles fetched.\n",
      "Ukraine: 50 articles fetched.\n",
      "United Kingdom: 50 articles fetched.\n",
      "United States: 50 articles fetched.\n"
     ]
    }
   ],
   "source": [
    "for country_name, country_code in COUNTRY_CODES.items():\n",
    "    url = f\"{BASE_URL}?q={QUERY}&country={country_code}&max={MAX_ARTICLES}&apikey={API_KEY}\"\n",
    "\n",
    "    try:\n",
    "        with urllib.request.urlopen(url) as response:\n",
    "            data = json.loads(response.read().decode(\"utf-8\"))\n",
    "            articles = data.get(\"articles\", [])\n",
    "            \n",
    "            if articles:\n",
    "                print(f\"{country_name}: {len(articles)} articles fetched.\")\n",
    "                filename = f\"{country_code}_articles.json\"\n",
    "                with open(filename, \"w\", encoding=\"utf-8\") as f:\n",
    "                    json.dump(articles, f, indent=4, ensure_ascii=False)\n",
    "            else:\n",
    "                print(f\"{country_name}: No articles found, nothing saved.\")\n",
    "\n",
    "        time.sleep(1.2)\n",
    "\n",
    "    except Exception as e:\n",
    "        print(f\"Error fetching data for {country_name} ({country_code}): {e}\")"
   ]
  }
 ],
 "metadata": {
  "kernelspec": {
   "display_name": "Python 3",
   "language": "python",
   "name": "python3"
  },
  "language_info": {
   "codemirror_mode": {
    "name": "ipython",
    "version": 3
   },
   "file_extension": ".py",
   "mimetype": "text/x-python",
   "name": "python",
   "nbconvert_exporter": "python",
   "pygments_lexer": "ipython3",
   "version": "3.12.7"
  }
 },
 "nbformat": 4,
 "nbformat_minor": 5
}
