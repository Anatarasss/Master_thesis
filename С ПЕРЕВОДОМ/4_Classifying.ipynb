{
 "cells": [
  {
   "cell_type": "code",
   "execution_count": 1,
   "id": "32b4c95c",
   "metadata": {},
   "outputs": [],
   "source": [
    "from transformers import pipeline\n",
    "import json\n",
    "import os\n",
    "from tqdm import tqdm"
   ]
  },
  {
   "cell_type": "code",
   "execution_count": 2,
   "id": "c8d750b4",
   "metadata": {},
   "outputs": [
    {
     "name": "stdout",
     "output_type": "stream",
     "text": [
      "WARNING:tensorflow:From c:\\Users\\Олег\\AppData\\Local\\Programs\\Python\\Python312\\Lib\\site-packages\\tf_keras\\src\\losses.py:2976: The name tf.losses.sparse_softmax_cross_entropy is deprecated. Please use tf.compat.v1.losses.sparse_softmax_cross_entropy instead.\n",
      "\n"
     ]
    }
   ],
   "source": [
    "# === Zero-Shot классификатор ===\n",
    "topic_classifier = pipeline(\"zero-shot-classification\",\n",
    "                      model=\"facebook/bart-large-mnli\",\n",
    "                      device=0)"
   ]
  },
  {
   "cell_type": "code",
   "execution_count": 3,
   "id": "24a8f305",
   "metadata": {},
   "outputs": [],
   "source": [
    "# === Сентимент-анализатор ===\n",
    "sentiment_classifier = pipeline(\"sentiment-analysis\",\n",
    "                              model=\"distilbert-base-uncased-finetuned-sst-2-english\",\n",
    "                              device=0)"
   ]
  },
  {
   "cell_type": "code",
   "execution_count": 4,
   "id": "00bd1f2f",
   "metadata": {},
   "outputs": [],
   "source": [
    "# === Темы для классификации ===\n",
    "candidate_labels = [\n",
    "    \"Politics\", \"Economy\", \"Military\", \"Health\", \"Technology\",\n",
    "    \"Energy\", \"Diplomacy\", \"Environment\", \"Conflict\", \"Elections\",\n",
    "    \"Crime\", \"Education\", \"Transport\", \"Culture\"\n",
    "]"
   ]
  },
  {
   "cell_type": "code",
   "execution_count": 5,
   "id": "50f84243",
   "metadata": {},
   "outputs": [],
   "source": [
    "input_folder = \"cleaned_articles\"\n",
    "output_folder = \"classified_articles\"\n",
    "os.makedirs(output_folder, exist_ok=True)"
   ]
  },
  {
   "cell_type": "code",
   "execution_count": null,
   "id": "2fc3c9d0",
   "metadata": {},
   "outputs": [
    {
     "name": "stderr",
     "output_type": "stream",
     "text": [
      "  1%|▏         | 10/750 [00:14<18:36,  1.51s/it]You seem to be using the pipelines sequentially on GPU. In order to maximize efficiency please use a dataset\n",
      "100%|██████████| 750/750 [17:56<00:00,  1.44s/it]\n"
     ]
    }
   ],
   "source": [
    "# Обработка всех файлов\n",
    "for filename in tqdm(os.listdir(input_folder)):\n",
    "    if not filename.endswith(\"_cleaned.json\"):\n",
    "        continue\n",
    "\n",
    "    filepath = os.path.join(input_folder, filename)\n",
    "    with open(filepath, \"r\", encoding=\"utf-8\") as f:\n",
    "        article = json.load(f)\n",
    "\n",
    "    sentences = article.get(\"cleaned_sentences\", [])\n",
    "    \n",
    "    if not sentences:\n",
    "        print(f\"Empty content in {filename}, skipping.\")\n",
    "        continue\n",
    "\n",
    "    full_text = \" \".join(sentences)\n",
    "\n",
    "    # Тематическая классификация\n",
    "    try:\n",
    "        topic_result = topic_classifier(full_text, \n",
    "                                        candidate_labels, \n",
    "                                        multi_label=True)\n",
    "        article[\"topics\"] = dict(zip(topic_result[\"labels\"], \n",
    "                                     topic_result[\"scores\"]))\n",
    "    except Exception as e:\n",
    "        print(f\"Topic classification failed for {filename}: {e}\")\n",
    "        article[\"topics\"] = {}\n",
    "\n",
    "    # Анализ тональности\n",
    "    try:\n",
    "        sentiments = sentiment_classifier(sentences, batch_size=32)\n",
    "        pos, neg, neu = 0, 0, 0\n",
    "        for s in sentiments:\n",
    "            label = s[\"label\"]\n",
    "            if label == \"POSITIVE\":\n",
    "                pos += 1\n",
    "            elif label == \"NEGATIVE\":\n",
    "                neg += 1\n",
    "            else:\n",
    "                neu += 1\n",
    "        total = len(sentiments)\n",
    "        article[\"sentiment\"] = {\n",
    "            \"positive\": round(pos / total, 3),\n",
    "            \"negative\": round(neg / total, 3),\n",
    "            \"neutral\": round(neu / total, 3)\n",
    "        }\n",
    "    except Exception as e:\n",
    "        print(f\"Sentiment analysis failed for {filename}: {e}\")\n",
    "        article[\"sentiment\"] = {}\n",
    "\n",
    "    # Сохраняем\n",
    "    output_path = os.path.join(output_folder, \n",
    "                               filename.replace(\"_cleaned.json\", \n",
    "                                                \"_classified.json\"))\n",
    "    with open(output_path, \"w\", encoding=\"utf-8\") as f:\n",
    "        json.dump(article, f, ensure_ascii=False, indent=2)"
   ]
  }
 ],
 "metadata": {
  "kernelspec": {
   "display_name": "Python 3",
   "language": "python",
   "name": "python3"
  },
  "language_info": {
   "codemirror_mode": {
    "name": "ipython",
    "version": 3
   },
   "file_extension": ".py",
   "mimetype": "text/x-python",
   "name": "python",
   "nbconvert_exporter": "python",
   "pygments_lexer": "ipython3",
   "version": "3.12.7"
  }
 },
 "nbformat": 4,
 "nbformat_minor": 5
}
